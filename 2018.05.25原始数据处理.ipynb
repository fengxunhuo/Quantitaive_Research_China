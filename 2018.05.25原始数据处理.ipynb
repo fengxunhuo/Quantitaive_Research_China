{
 "cells": [
  {
   "cell_type": "code",
   "execution_count": 1,
   "metadata": {},
   "outputs": [],
   "source": [
    "import pandas as pd\n",
    "import numpy as np\n",
    "import matplotlib as plt\n",
    "from pandas import DataFrame"
   ]
  },
  {
   "cell_type": "code",
   "execution_count": 2,
   "metadata": {},
   "outputs": [],
   "source": [
    "def sum_accum(df,N):     #求某一段区间内的累计和的函数\n",
    "    sume = list()\n",
    "    a=[0]\n",
    "    for i in range(N):\n",
    "        a = a + df.values[i]\n",
    "        a.tolist()\n",
    "        sume.extend(a)\n",
    "    return sume"
   ]
  },
  {
   "cell_type": "code",
   "execution_count": 3,
   "metadata": {},
   "outputs": [],
   "source": [
    "def data_processing(data):\n",
    "    \n",
    "    ######将读取的原始数据进行简单处理，以日期作为索引，并将\"stock\",\"close\",\"volume\",\"turnover\",\"value\"作为列名#########\n",
    "    data = data.set_index('Trddt')\n",
    "    data.columns = [\"stock\",\"close\",\"volume\",\"turnover\",\"value\"]\n",
    "    data.index.name = \"date\"\n",
    "\n",
    "    stock_sum = pd.DataFrame(columns = ['stock', 'close', 'volume', 'turnover', 'value', 'turnover_sum', 'change'])  ##建立一个空的dataframe\n",
    "\n",
    "    ######对所有股票进行循环，并将其存入stock_sum中#######################\n",
    "    for i in list(set(data[\"stock\"])):\n",
    "        stock_eg = data[data[\"stock\"] == i]\n",
    "        stock_eg = stock_eg.sort_index()                  #将dataframe按照索引从小到大排列\n",
    "        turnover = stock_eg['turnover']\n",
    "        close = stock_eg[\"close\"]\n",
    "        turnover_sum = sum_accum(turnover,len(stock_eg))\n",
    "        change = close.pct_change(periods=1, fill_method='pad')    #求每日涨跌函数\n",
    "        stock_eg[\"turnover_sum\"] = turnover_sum\n",
    "        stock_eg[\"change\"] = change\n",
    "        stock_sum = stock_sum.append(stock_eg)\n",
    "    \n",
    "    #stock_sum['change_sum'] = stock_sum['change'].groupby(stock_sum['stock']).cumsum()\n",
    "    stock_sum.index.name = 'date'\n",
    "    return stock_sum  "
   ]
  },
  {
   "cell_type": "code",
   "execution_count": 4,
   "metadata": {},
   "outputs": [],
   "source": [
    "data = pd.read_table('D:/Documents/Go Abroad/实习/成交金额/原始数据/2013.txt',encoding='gbk',engine='python')"
   ]
  },
  {
   "cell_type": "code",
   "execution_count": 5,
   "metadata": {},
   "outputs": [],
   "source": [
    "stock = data_processing(data)"
   ]
  },
  {
   "cell_type": "code",
   "execution_count": 6,
   "metadata": {},
   "outputs": [],
   "source": [
    "stock.to_csv('D:/Documents/Go Abroad/实习/成交金额/Python数据/2013_4/2013.csv')"
   ]
  },
  {
   "cell_type": "code",
   "execution_count": null,
   "metadata": {},
   "outputs": [],
   "source": []
  },
  {
   "cell_type": "code",
   "execution_count": null,
   "metadata": {},
   "outputs": [],
   "source": []
  },
  {
   "cell_type": "code",
   "execution_count": null,
   "metadata": {},
   "outputs": [],
   "source": []
  },
  {
   "cell_type": "code",
   "execution_count": null,
   "metadata": {},
   "outputs": [],
   "source": []
  },
  {
   "cell_type": "code",
   "execution_count": null,
   "metadata": {},
   "outputs": [],
   "source": []
  },
  {
   "cell_type": "code",
   "execution_count": null,
   "metadata": {},
   "outputs": [],
   "source": []
  }
 ],
 "metadata": {
  "kernelspec": {
   "display_name": "dayu",
   "language": "python",
   "name": "dayu"
  },
  "language_info": {
   "codemirror_mode": {
    "name": "ipython",
    "version": 3
   },
   "file_extension": ".py",
   "mimetype": "text/x-python",
   "name": "python",
   "nbconvert_exporter": "python",
   "pygments_lexer": "ipython3",
   "version": "3.6.4"
  }
 },
 "nbformat": 4,
 "nbformat_minor": 2
}
