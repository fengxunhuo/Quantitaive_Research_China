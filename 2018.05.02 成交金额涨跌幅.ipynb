{
 "cells": [
  {
   "cell_type": "code",
   "execution_count": 1,
   "metadata": {},
   "outputs": [],
   "source": [
    "import pandas as pd\n",
    "import numpy as np\n",
    "import matplotlib as plt\n",
    "from pandas import DataFrame"
   ]
  },
  {
   "cell_type": "code",
   "execution_count": 2,
   "metadata": {},
   "outputs": [],
   "source": [
    "def max_stock(data):\n",
    "    L = []\n",
    "    for i in set(data[\"stock\"]):\n",
    "        counter = list(data[\"stock\"].values).count(i)\n",
    "        L.append(counter)                                        ###L为各股票出现的次数，即交易天数\n",
    "    stock_id = list(set(data[\"stock\"]))\n",
    "    stock_m = stock_id[L.index(max(L))]                           ###选出交易天数最全的一只股票\n",
    "    return stock_m"
   ]
  },
  {
   "cell_type": "code",
   "execution_count": 3,
   "metadata": {},
   "outputs": [],
   "source": [
    "def best_perf(data, T, N, K):                                 ###data为原始数据，T为所要比较的涨跌幅的日期，N为T之前的时间跨度，K为最大成交总额及涨跌幅对比数\n",
    "    data = data[['date','stock','close','turnover_sum','change']]\n",
    "    data['stock'] = data['stock'].astype(str)              ###更改stock的数据类型为字符型\n",
    "    \n",
    "    stock_m = max_stock(data)\n",
    "    stock_eg = data[data['stock'] == stock_m]\n",
    "\n",
    "    start = int(stock_eg[stock_eg['date'] ==  T].index.values-N-1)-stock_eg.index[0]      ###寻找T前N+1天的索引位置\n",
    "    end = int(stock_eg[stock_eg['date'] ==  T].index.values)-stock_eg.index[0]             ###寻找T日的索引位置\n",
    "    slc = stock_eg.iloc[[start,end-1,end],:]\n",
    "    \n",
    "    init = data[data['date'] == slc['date'].values[0]]\n",
    "    fina = data[data['date'] == slc['date'].values[1]]\n",
    "    fina1 = data[data['date'] == slc['date'].values[2]]\n",
    "    secl_sum = init.append(fina).sort_index()\n",
    "    secl_sum = secl_sum.append(fina1).sort_index()                    ####将所有在T,T-N-1,T-1时有数据的股票信息合成一张表\n",
    "    \n",
    "    stock_intersect = list(set(init['stock']).intersection(set(fina['stock'])))\n",
    "    stock_intersect = list(set(stock_intersect).intersection(set(fina1['stock'])))    ###选出在上述三个时段都有数据的股票\n",
    "    \n",
    "    starter = secl_sum[secl_sum['stock'] == stock_intersect[0]]\n",
    "    turn_o = starter['turnover_sum']\n",
    "    differ = turn_o.values[1]-turn_o.values[0]\n",
    "    stock_f = starter[starter['date'] == T]\n",
    "    stock_f.insert(5,'turnover_N',[differ])                          ###将上述选出的股票计算N天的成交量总额及T日的涨跌幅\n",
    "    \n",
    "    for k in stock_intersect[1:]:\n",
    "        a = secl_sum[secl_sum['stock'] == k]\n",
    "        turn_o = a['turnover_sum']\n",
    "        differ = turn_o.values[1]-turn_o.values[0]\n",
    "        b = a[a['date'] == T]\n",
    "        b.insert(5,'turnover_N',[differ])\n",
    "        stock_f = stock_f.append(b)\n",
    "    stock_f = stock_f.sort_index()                                 ###循环进行上述操作\n",
    "    \n",
    "    stock_Tmax = stock_f.sort_values(by = ['turnover_N'], ascending = False).head(K)     ###取出N天成交金额最大的K个股票\n",
    "    stock_Cmax = stock_f.sort_values(by = ['change'], ascending = False).head(K)         ###取出T日涨跌幅最大的K个股票\n",
    "    stock_best = list(set(stock_Tmax['stock']).intersection(set(stock_Cmax['stock'])))   ###取出涨跌幅及成交金额都是最大K的股票     \n",
    "    \n",
    "    stock_bestinf = stock_Cmax[stock_Cmax['stock'] == stock_best[0]]\n",
    "    for i in stock_best[1:]:\n",
    "        infom = stock_Cmax[stock_Cmax['stock'] == i]\n",
    "        stock_bestinf = stock_bestinf.append(infom)                                ###获取这几只股票的具体信息\n",
    "        stock_bestinf = stock_bestinf.sort_index()\n",
    "    return stock_bestinf    \n",
    "    \n",
    "    \n",
    "    \n",
    "    "
   ]
  },
  {
   "cell_type": "code",
   "execution_count": 4,
   "metadata": {},
   "outputs": [],
   "source": [
    "data = pd.read_csv('D:/Documents/Go Abroad/实习/成交金额/Python数据/2017.csv',encoding='gbk',engine='python')"
   ]
  },
  {
   "cell_type": "code",
   "execution_count": 5,
   "metadata": {},
   "outputs": [
    {
     "name": "stderr",
     "output_type": "stream",
     "text": [
      "D:\\Anaconda3\\envs\\dayu\\lib\\site-packages\\ipykernel_launcher.py:3: SettingWithCopyWarning: \n",
      "A value is trying to be set on a copy of a slice from a DataFrame.\n",
      "Try using .loc[row_indexer,col_indexer] = value instead\n",
      "\n",
      "See the caveats in the documentation: http://pandas.pydata.org/pandas-docs/stable/indexing.html#indexing-view-versus-copy\n",
      "  This is separate from the ipykernel package so we can avoid doing imports until\n"
     ]
    }
   ],
   "source": [
    "stock_bestinf = best_perf(data, '2017-12-28', 20, 100)"
   ]
  },
  {
   "cell_type": "code",
   "execution_count": 8,
   "metadata": {},
   "outputs": [
    {
     "data": {
      "text/html": [
       "<div>\n",
       "<style>\n",
       "    .dataframe thead tr:only-child th {\n",
       "        text-align: right;\n",
       "    }\n",
       "\n",
       "    .dataframe thead th {\n",
       "        text-align: left;\n",
       "    }\n",
       "\n",
       "    .dataframe tbody tr th {\n",
       "        vertical-align: top;\n",
       "    }\n",
       "</style>\n",
       "<table border=\"1\" class=\"dataframe\">\n",
       "  <thead>\n",
       "    <tr style=\"text-align: right;\">\n",
       "      <th></th>\n",
       "      <th>date</th>\n",
       "      <th>stock</th>\n",
       "      <th>close</th>\n",
       "      <th>turnover_sum</th>\n",
       "      <th>change</th>\n",
       "      <th>turnover_N</th>\n",
       "    </tr>\n",
       "  </thead>\n",
       "  <tbody>\n",
       "    <tr>\n",
       "      <th>75328</th>\n",
       "      <td>2017-12-28</td>\n",
       "      <td>717</td>\n",
       "      <td>8.85</td>\n",
       "      <td>9.554107e+10</td>\n",
       "      <td>0.047337</td>\n",
       "      <td>1.692820e+10</td>\n",
       "    </tr>\n",
       "    <tr>\n",
       "      <th>89370</th>\n",
       "      <td>2017-12-28</td>\n",
       "      <td>807</td>\n",
       "      <td>10.35</td>\n",
       "      <td>1.673262e+11</td>\n",
       "      <td>0.094080</td>\n",
       "      <td>1.435638e+10</td>\n",
       "    </tr>\n",
       "    <tr>\n",
       "      <th>134662</th>\n",
       "      <td>2017-12-28</td>\n",
       "      <td>2027</td>\n",
       "      <td>14.04</td>\n",
       "      <td>1.194158e+11</td>\n",
       "      <td>0.043866</td>\n",
       "      <td>1.508705e+10</td>\n",
       "    </tr>\n",
       "    <tr>\n",
       "      <th>388719</th>\n",
       "      <td>2017-12-28</td>\n",
       "      <td>601899</td>\n",
       "      <td>4.69</td>\n",
       "      <td>1.312115e+11</td>\n",
       "      <td>0.100939</td>\n",
       "      <td>1.419104e+10</td>\n",
       "    </tr>\n",
       "    <tr>\n",
       "      <th>431562</th>\n",
       "      <td>2017-12-28</td>\n",
       "      <td>600111</td>\n",
       "      <td>14.81</td>\n",
       "      <td>2.834909e+11</td>\n",
       "      <td>0.066235</td>\n",
       "      <td>1.534416e+10</td>\n",
       "    </tr>\n",
       "    <tr>\n",
       "      <th>644933</th>\n",
       "      <td>2017-12-28</td>\n",
       "      <td>603993</td>\n",
       "      <td>7.01</td>\n",
       "      <td>2.586286e+11</td>\n",
       "      <td>0.068598</td>\n",
       "      <td>1.710043e+10</td>\n",
       "    </tr>\n",
       "    <tr>\n",
       "      <th>679840</th>\n",
       "      <td>2017-12-28</td>\n",
       "      <td>600519</td>\n",
       "      <td>718.69</td>\n",
       "      <td>4.543575e+11</td>\n",
       "      <td>0.082071</td>\n",
       "      <td>5.897544e+10</td>\n",
       "    </tr>\n",
       "  </tbody>\n",
       "</table>\n",
       "</div>"
      ],
      "text/plain": [
       "              date   stock   close  turnover_sum    change    turnover_N\n",
       "75328   2017-12-28     717    8.85  9.554107e+10  0.047337  1.692820e+10\n",
       "89370   2017-12-28     807   10.35  1.673262e+11  0.094080  1.435638e+10\n",
       "134662  2017-12-28    2027   14.04  1.194158e+11  0.043866  1.508705e+10\n",
       "388719  2017-12-28  601899    4.69  1.312115e+11  0.100939  1.419104e+10\n",
       "431562  2017-12-28  600111   14.81  2.834909e+11  0.066235  1.534416e+10\n",
       "644933  2017-12-28  603993    7.01  2.586286e+11  0.068598  1.710043e+10\n",
       "679840  2017-12-28  600519  718.69  4.543575e+11  0.082071  5.897544e+10"
      ]
     },
     "execution_count": 8,
     "metadata": {},
     "output_type": "execute_result"
    }
   ],
   "source": [
    "stock_bestinf = stock_bestinf.sort_index()\n",
    "stock_bestinf"
   ]
  },
  {
   "cell_type": "code",
   "execution_count": null,
   "metadata": {},
   "outputs": [],
   "source": []
  },
  {
   "cell_type": "code",
   "execution_count": null,
   "metadata": {},
   "outputs": [],
   "source": []
  },
  {
   "cell_type": "code",
   "execution_count": null,
   "metadata": {},
   "outputs": [],
   "source": []
  },
  {
   "cell_type": "code",
   "execution_count": null,
   "metadata": {},
   "outputs": [],
   "source": []
  },
  {
   "cell_type": "code",
   "execution_count": null,
   "metadata": {},
   "outputs": [],
   "source": []
  },
  {
   "cell_type": "code",
   "execution_count": null,
   "metadata": {},
   "outputs": [],
   "source": []
  }
 ],
 "metadata": {
  "kernelspec": {
   "display_name": "dayu",
   "language": "python",
   "name": "dayu"
  },
  "language_info": {
   "codemirror_mode": {
    "name": "ipython",
    "version": 3
   },
   "file_extension": ".py",
   "mimetype": "text/x-python",
   "name": "python",
   "nbconvert_exporter": "python",
   "pygments_lexer": "ipython3",
   "version": "3.6.4"
  }
 },
 "nbformat": 4,
 "nbformat_minor": 2
}
