{
 "cells": [
  {
   "cell_type": "code",
   "execution_count": 1,
   "metadata": {},
   "outputs": [],
   "source": [
    "import pandas as pd\n",
    "import numpy as np\n",
    "import matplotlib as plt\n",
    "from pandas import DataFrame"
   ]
  },
  {
   "cell_type": "code",
   "execution_count": 2,
   "metadata": {},
   "outputs": [],
   "source": [
    "def max_stock(data):\n",
    "    L = []\n",
    "    for i in set(data[\"stock\"]):\n",
    "        counter = list(data[\"stock\"].values).count(i)\n",
    "        L.append(counter)                                        ###L为各股票出现的次数，即交易天数\n",
    "    stock_id = list(set(data[\"stock\"]))\n",
    "    stock_m = stock_id[L.index(max(L))]                           ###选出交易天数最全的一只股票\n",
    "    return stock_m"
   ]
  },
  {
   "cell_type": "code",
   "execution_count": 3,
   "metadata": {},
   "outputs": [],
   "source": [
    "def best_perf(data, stock_eg, T, N1, N2, K):                                 ###data为原始数据，T为所要比较的涨跌幅的日期，N1，N2为T之前和T之后的时间跨度，K为最大成交总额及涨跌幅对比数\n",
    "    #data = data[['date','stock','close','turnover_sum','change']]\n",
    "    #data['stock'] = data['stock'].astype(str)                       ###更改stock的数据类型为字符型\n",
    "\n",
    "    start = int(stock_eg[stock_eg['date'] ==  T].index.values-N1-1)-stock_eg.index[0]                  ###寻找T前N+1天的索引位置\n",
    "    middle = int(stock_eg[stock_eg['date'] == T].index.values)-1-stock_eg.index[0]             ###寻找T日前一日的索引位置\n",
    "    end = middle+N2                                                 ###统计涨跌幅最后一日的索引位置\n",
    "    slc = stock_eg.iloc[[start, middle, middle+1, end],:]           ###选出所需计算的股票信息\n",
    "    \n",
    "    init = data[data['date'] == slc['date'].values[0]]\n",
    "    middle = data[data['date'] == slc['date'].values[1]]\n",
    "    determ = data[data['date'] == slc['date'].values[2]]\n",
    "    fina = data[data['date'] == slc['date'].values[3]]\n",
    "    secl_sum = init.append(middle).sort_index()\n",
    "    secl_sum = secl_sum.append(determ).sort_index()\n",
    "    secl_sum = secl_sum.append(fina).sort_index()                   ####将所有在T,T-N1-1,T-1，T-1+N2时有数据的股票信息合成一张表\n",
    "    \n",
    "    stock_intersect = list(set(init['stock']).intersection(set(middle['stock'])))\n",
    "    stock_intersect = list(set(stock_intersect).intersection(set(determ['stock'])))\n",
    "    stock_intersect = list(set(stock_intersect).intersection(set(fina['stock'])))        ###选出在上述四个时段都有数据的股票\n",
    "    \n",
    "    stock_f = pd.DataFrame(columns = ['date', 'stock', 'close', 'turnover_sum', 'change', 'change_sum', 'turnover_N1', 'turnover_N2', 'change_N'])  ###建立一个空的dataframe\n",
    "    \n",
    "    for k in stock_intersect:\n",
    "        starter = secl_sum[secl_sum['stock'] == k]\n",
    "        turn_o = starter['turnover_sum']\n",
    "        change_s = starter['change_sum']\n",
    "        differ_t = turn_o.values[1]-turn_o.values[0]                  ###计算T前N1天的成交金额总量\n",
    "        differ_t2 = turn_o.values[3]-turn_o.values[1]                 ###计算T后N2天的成交金额总量\n",
    "        differ_c = change_s.values[3]-change_s.values[1]              ###计算T后N2天的涨跌幅\n",
    "        stock_a = starter[starter['date'] == T]\n",
    "        stock_a.insert(6,'turnover_N1',[differ_t])\n",
    "        stock_a.insert(7,'turnover_N2',[differ_t2])\n",
    "        stock_a.insert(8,'change_N',[differ_c/N2])                    ###插入N2天的平均日涨跌幅\n",
    "        stock_f = stock_f.append(stock_a)\n",
    "\n",
    "    stock_f = stock_f.sort_index()\n",
    "    stock_f = stock_f[['date','stock','close','turnover_N1','turnover_N2','change_N']]\n",
    "    \n",
    "    stock_Tmax = stock_f.sort_values(by = ['turnover_N1'], ascending = False).head(K)     ###取出N天成交金额最大的K个股票\n",
    "    stock_Cmax = stock_f.sort_values(by = ['change_N'], ascending = False).head(K)         ###取出T日涨跌幅最大的K个股票\n",
    "    stock_best = list(set(stock_Tmax['stock']).intersection(set(stock_Cmax['stock'])))   ###取出涨跌幅及成交金额都是最大K的股票     \n",
    "    \n",
    "    stock_bestinf = stock_Cmax[stock_Cmax['stock'] == stock_best[0]]\n",
    "    for i in stock_best[1:]:\n",
    "        infom = stock_Cmax[stock_Cmax['stock'] == i]\n",
    "        stock_bestinf = stock_bestinf.append(infom)                                ###获取这几只股票的具体信息\n",
    "        stock_bestinf = stock_bestinf.sort_index()\n",
    "    return stock_bestinf    "
   ]
  },
  {
   "cell_type": "code",
   "execution_count": 4,
   "metadata": {},
   "outputs": [],
   "source": [
    "data = pd.read_csv('D:/Documents/Go Abroad/实习/成交金额/Python数据/2017/2017.csv',encoding='gbk',engine='python')"
   ]
  },
  {
   "cell_type": "code",
   "execution_count": 5,
   "metadata": {},
   "outputs": [],
   "source": [
    "#stock_m = max_stock(data)\n",
    "\n",
    "stock_eg = data[data['stock'] == 1]"
   ]
  },
  {
   "cell_type": "code",
   "execution_count": 6,
   "metadata": {},
   "outputs": [],
   "source": [
    "stock_bestinf = best_perf(data, stock_eg, '2017-11-24', 55, 10, 100)"
   ]
  },
  {
   "cell_type": "code",
   "execution_count": 7,
   "metadata": {},
   "outputs": [
    {
     "data": {
      "text/html": [
       "<div>\n",
       "<style>\n",
       "    .dataframe thead tr:only-child th {\n",
       "        text-align: right;\n",
       "    }\n",
       "\n",
       "    .dataframe thead th {\n",
       "        text-align: left;\n",
       "    }\n",
       "\n",
       "    .dataframe tbody tr th {\n",
       "        vertical-align: top;\n",
       "    }\n",
       "</style>\n",
       "<table border=\"1\" class=\"dataframe\">\n",
       "  <thead>\n",
       "    <tr style=\"text-align: right;\">\n",
       "      <th></th>\n",
       "      <th>date</th>\n",
       "      <th>stock</th>\n",
       "      <th>close</th>\n",
       "      <th>turnover_N1</th>\n",
       "      <th>turnover_N2</th>\n",
       "      <th>change_N</th>\n",
       "    </tr>\n",
       "  </thead>\n",
       "  <tbody>\n",
       "    <tr>\n",
       "      <th>93384</th>\n",
       "      <td>2017-11-24</td>\n",
       "      <td>830</td>\n",
       "      <td>13.70</td>\n",
       "      <td>3.810954e+10</td>\n",
       "      <td>1.217803e+10</td>\n",
       "      <td>0.014580</td>\n",
       "    </tr>\n",
       "    <tr>\n",
       "      <th>264368</th>\n",
       "      <td>2017-11-24</td>\n",
       "      <td>2600</td>\n",
       "      <td>9.65</td>\n",
       "      <td>3.957565e+10</td>\n",
       "      <td>2.731000e+09</td>\n",
       "      <td>0.012815</td>\n",
       "    </tr>\n",
       "    <tr>\n",
       "      <th>547020</th>\n",
       "      <td>2017-11-24</td>\n",
       "      <td>300355</td>\n",
       "      <td>12.21</td>\n",
       "      <td>5.273424e+10</td>\n",
       "      <td>8.829097e+09</td>\n",
       "      <td>0.009362</td>\n",
       "    </tr>\n",
       "    <tr>\n",
       "      <th>665987</th>\n",
       "      <td>2017-11-24</td>\n",
       "      <td>600460</td>\n",
       "      <td>11.30</td>\n",
       "      <td>5.214161e+10</td>\n",
       "      <td>2.254029e+10</td>\n",
       "      <td>0.020579</td>\n",
       "    </tr>\n",
       "  </tbody>\n",
       "</table>\n",
       "</div>"
      ],
      "text/plain": [
       "              date   stock  close   turnover_N1   turnover_N2  change_N\n",
       "93384   2017-11-24     830  13.70  3.810954e+10  1.217803e+10  0.014580\n",
       "264368  2017-11-24    2600   9.65  3.957565e+10  2.731000e+09  0.012815\n",
       "547020  2017-11-24  300355  12.21  5.273424e+10  8.829097e+09  0.009362\n",
       "665987  2017-11-24  600460  11.30  5.214161e+10  2.254029e+10  0.020579"
      ]
     },
     "execution_count": 7,
     "metadata": {},
     "output_type": "execute_result"
    }
   ],
   "source": [
    "stock_bestinf"
   ]
  },
  {
   "cell_type": "code",
   "execution_count": null,
   "metadata": {},
   "outputs": [],
   "source": []
  },
  {
   "cell_type": "code",
   "execution_count": null,
   "metadata": {},
   "outputs": [],
   "source": []
  },
  {
   "cell_type": "code",
   "execution_count": null,
   "metadata": {},
   "outputs": [],
   "source": []
  },
  {
   "cell_type": "code",
   "execution_count": null,
   "metadata": {},
   "outputs": [],
   "source": []
  },
  {
   "cell_type": "code",
   "execution_count": null,
   "metadata": {},
   "outputs": [],
   "source": []
  },
  {
   "cell_type": "code",
   "execution_count": null,
   "metadata": {},
   "outputs": [],
   "source": []
  },
  {
   "cell_type": "code",
   "execution_count": null,
   "metadata": {},
   "outputs": [],
   "source": []
  },
  {
   "cell_type": "code",
   "execution_count": null,
   "metadata": {},
   "outputs": [],
   "source": []
  },
  {
   "cell_type": "code",
   "execution_count": null,
   "metadata": {},
   "outputs": [],
   "source": []
  },
  {
   "cell_type": "code",
   "execution_count": null,
   "metadata": {},
   "outputs": [],
   "source": []
  },
  {
   "cell_type": "code",
   "execution_count": null,
   "metadata": {},
   "outputs": [],
   "source": []
  },
  {
   "cell_type": "code",
   "execution_count": null,
   "metadata": {},
   "outputs": [],
   "source": []
  },
  {
   "cell_type": "code",
   "execution_count": null,
   "metadata": {},
   "outputs": [],
   "source": []
  },
  {
   "cell_type": "code",
   "execution_count": null,
   "metadata": {},
   "outputs": [],
   "source": []
  },
  {
   "cell_type": "code",
   "execution_count": null,
   "metadata": {},
   "outputs": [],
   "source": []
  },
  {
   "cell_type": "code",
   "execution_count": null,
   "metadata": {},
   "outputs": [],
   "source": []
  },
  {
   "cell_type": "code",
   "execution_count": null,
   "metadata": {},
   "outputs": [],
   "source": []
  },
  {
   "cell_type": "code",
   "execution_count": null,
   "metadata": {},
   "outputs": [],
   "source": []
  },
  {
   "cell_type": "code",
   "execution_count": null,
   "metadata": {},
   "outputs": [],
   "source": []
  },
  {
   "cell_type": "code",
   "execution_count": null,
   "metadata": {},
   "outputs": [],
   "source": []
  },
  {
   "cell_type": "code",
   "execution_count": null,
   "metadata": {},
   "outputs": [],
   "source": []
  }
 ],
 "metadata": {
  "kernelspec": {
   "display_name": "dayu",
   "language": "python",
   "name": "dayu"
  },
  "language_info": {
   "codemirror_mode": {
    "name": "ipython",
    "version": 3
   },
   "file_extension": ".py",
   "mimetype": "text/x-python",
   "name": "python",
   "nbconvert_exporter": "python",
   "pygments_lexer": "ipython3",
   "version": "3.6.4"
  }
 },
 "nbformat": 4,
 "nbformat_minor": 2
}
